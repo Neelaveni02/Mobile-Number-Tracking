{
  "nbformat": 4,
  "nbformat_minor": 0,
  "metadata": {
    "colab": {
      "name": "Untitled5.ipynb",
      "provenance": []
    },
    "kernelspec": {
      "name": "python3",
      "display_name": "Python 3"
    },
    "language_info": {
      "name": "python"
    }
  },
  "cells": [
    {
      "cell_type": "code",
      "metadata": {
        "colab": {
          "base_uri": "https://localhost:8080/"
        },
        "id": "Mgb1W1P7e3lX",
        "outputId": "c9b73858-c6b6-409a-f7c0-faee578545aa"
      },
      "source": [
        "!pip install phonenumbers"
      ],
      "execution_count": 12,
      "outputs": [
        {
          "output_type": "stream",
          "name": "stdout",
          "text": [
            "Collecting phonenumbers\n",
            "  Downloading phonenumbers-8.12.36-py2.py3-none-any.whl (2.6 MB)\n",
            "\u001b[K     |████████████████████████████████| 2.6 MB 4.3 MB/s \n",
            "\u001b[?25hInstalling collected packages: phonenumbers\n",
            "Successfully installed phonenumbers-8.12.36\n"
          ]
        }
      ]
    },
    {
      "cell_type": "code",
      "metadata": {
        "colab": {
          "base_uri": "https://localhost:8080/"
        },
        "id": "GDYHHQwBfANU",
        "outputId": "ce811e3f-6953-4574-e47c-28ff72cc72d2"
      },
      "source": [
        "import phonenumbers\n",
        "from phonenumbers import carrier,geocoder,timezone\n",
        "\n",
        "mobileNo=input(\"Mobile no.with country code:\")\n",
        "mobileNo=phonenumbers.parse(mobileNo)\n",
        "print(timezone.time_zones_for_number(mobileNo))\n",
        "print(carrier.name_for_number(mobileNo,\"en\"))\n",
        "print(geocoder.description_for_number(mobileNo,\"en\"))\n",
        "print(\"Valid Mobile Number:\",phonenumbers.is_valid_number(mobileNo))\n",
        "print(\"Checking possibility of Number:\",phonenumbers.is_possible_number(mobileNo))"
      ],
      "execution_count": 17,
      "outputs": [
        {
          "output_type": "stream",
          "name": "stdout",
          "text": [
            "Mobile no.with country code:+917993823597\n",
            "('Asia/Calcutta',)\n",
            "Airtel\n",
            "India\n",
            "Valid Mobile Number: True\n",
            "Checking possibility of Number: True\n"
          ]
        }
      ]
    },
    {
      "cell_type": "code",
      "metadata": {
        "colab": {
          "base_uri": "https://localhost:8080/"
        },
        "id": "zBaB7ky-Z5oN",
        "outputId": "aec36280-f03c-4d42-dc2b-768c8b33e6b8"
      },
      "source": [
        "n = int(input().strip())\n",
        "arr = [int(arr_temp) for arr_temp in input().strip().split(' ')]\n",
        "print(sum(arr))"
      ],
      "execution_count": 10,
      "outputs": [
        {
          "output_type": "stream",
          "name": "stdout",
          "text": [
            "6\n",
            "1 2 3 4 10 11\n",
            "31\n"
          ]
        }
      ]
    }
  ]
}